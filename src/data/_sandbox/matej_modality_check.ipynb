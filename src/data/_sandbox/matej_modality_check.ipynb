{
 "cells": [
  {
   "cell_type": "code",
   "execution_count": 1,
   "id": "1ba28b42",
   "metadata": {},
   "outputs": [],
   "source": [
    "import os\n",
    "\n",
    "from pathlib import Path\n",
    "\n",
    "\n",
    "root_dir = '/home/mg873uh/Projects_kb/data/pretrain'\n",
    "\n",
    "count = {}\n",
    "for root, dirs, files in os.walk(root_dir):\n",
    "    for file in files:\n",
    "        if file.endswith('.nii.gz'):\n",
    "            modality = file.split('.')[0]\n",
    "            if modality not in count:\n",
    "                count[modality] = 0\n",
    "            count[modality] += 1"
   ]
  },
  {
   "cell_type": "code",
   "execution_count": 3,
   "id": "0dadb781",
   "metadata": {},
   "outputs": [
    {
     "name": "stdout",
     "output_type": "stream",
     "text": [
      "{'t1': 12454, 'dwi_2': 4670, 'flair': 6373, 'dwi': 6587, 't2': 5695, 't1_2': 5283, 'scan_2': 1063, 'scan_3': 961, 'scan_1': 1821, 'scan_5': 917, 'scan_7': 822, 'scan_8': 751, 'scan_6': 874, 'scan_4': 938, 't1_3': 2384, 't1_4': 1338, 'swi': 686, 't2_2': 953, 't2_3': 581, 't2s': 686, 'scan_18': 111, 'scan_21': 43, 'scan_12': 447, 'scan_9': 688, 'scan_15': 242, 'scan_16': 189, 'scan_17': 151, 'scan_14': 329, 'scan_20': 45, 'scan_10': 588, 'scan_13': 393, 'scan_19': 69, 'scan_11': 516, 'pd': 577, 'flair_2': 113, 'flair_3': 92, 'scan_22': 31, 'scan_23': 19, 'scan_24': 11, 'scan_27': 5, 'scan_26': 6, 'scan_29': 3, 'scan_25': 7, 'scan_31': 3, 'scan_30': 3, 'scan_28': 5, 't1_5': 2, 't1_6': 1, 'scan_32': 1, 't2_5': 1, 't2_4': 1}\n"
     ]
    }
   ],
   "source": [
    "print(count)"
   ]
  },
  {
   "cell_type": "code",
   "execution_count": null,
   "id": "fce54991",
   "metadata": {},
   "outputs": [],
   "source": []
  }
 ],
 "metadata": {
  "kernelspec": {
   "display_name": ".venv_fomo",
   "language": "python",
   "name": "python3"
  },
  "language_info": {
   "codemirror_mode": {
    "name": "ipython",
    "version": 3
   },
   "file_extension": ".py",
   "mimetype": "text/x-python",
   "name": "python",
   "nbconvert_exporter": "python",
   "pygments_lexer": "ipython3",
   "version": "3.12.3"
  }
 },
 "nbformat": 4,
 "nbformat_minor": 5
}
