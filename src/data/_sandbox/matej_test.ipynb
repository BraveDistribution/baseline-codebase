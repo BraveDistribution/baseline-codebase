{
 "cells": [
  {
   "cell_type": "code",
   "execution_count": 1,
   "id": "f15b0cbb",
   "metadata": {},
   "outputs": [
    {
     "name": "stdout",
     "output_type": "stream",
     "text": [
      "Imports successful!\n"
     ]
    }
   ],
   "source": [
    "import os\n",
    "import sys\n",
    "import torch\n",
    "import numpy as np\n",
    "import matplotlib.pyplot as plt\n",
    "from pathlib import Path\n",
    "\n",
    "# Add the src directory to the path so we can import our modules\n",
    "sys.path.append('/home/mg873uh/Projects_kb/baseline-codebase/src')\n",
    "\n",
    "from data.datamodule import PretrainDataModule\n",
    "from data.dataset import PretrainDatasetCombinedPatient\n",
    "from data.pretrain_split import get_pretrain_split_config\n",
    "from augmentations.augmentation_composer import get_pretrain_augmentations, get_val_augmentations\n",
    "from utils.utils import SimplePathConfig\n",
    "\n",
    "print(\"Imports successful!\")"
   ]
  },
  {
   "cell_type": "code",
   "execution_count": 2,
   "id": "8cbea865",
   "metadata": {},
   "outputs": [
    {
     "name": "stdout",
     "output_type": "stream",
     "text": [
      "sub_11064_ses_1_dwi.npy\n",
      "Processing file: sub_11064_ses_1_dwi.npy for patient sub_11064, session 1, modality dwi\n",
      "sub_1105_ses_1_dwi.npy\n",
      "Processing file: sub_1105_ses_1_dwi.npy for patient sub_1105, session 1, modality dwi\n",
      "sub_11064_ses_1_dwi_2.npy\n",
      "Processing file: sub_11064_ses_1_dwi_2.npy for patient sub_11064, session 1, modality dwi\n",
      "sub_1105_ses_1_t2.npy\n",
      "Processing file: sub_1105_ses_1_t2.npy for patient sub_1105, session 1, modality t2\n",
      "sub_1105_ses_1_t1.npy\n",
      "Processing file: sub_1105_ses_1_t1.npy for patient sub_1105, session 1, modality t1\n",
      "sub_1105_ses_2_t1.npy\n",
      "Processing file: sub_1105_ses_2_t1.npy for patient sub_1105, session 2, modality t1\n",
      "sub_11064_ses_1_t1.npy\n",
      "Processing file: sub_11064_ses_1_t1.npy for patient sub_11064, session 1, modality t1\n",
      "sub_1105_ses_2_t2.npy\n",
      "Processing file: sub_1105_ses_2_t2.npy for patient sub_1105, session 2, modality t2\n",
      "sub_11064_ses_1_flair.npy\n",
      "Processing file: sub_11064_ses_1_flair.npy for patient sub_11064, session 1, modality flair\n",
      "sub_1105_ses_2_dwi.npy\n",
      "Processing file: sub_1105_ses_2_dwi.npy for patient sub_1105, session 2, modality dwi\n"
     ]
    }
   ],
   "source": [
    "dataset = PretrainDatasetCombinedPatient([\"sub_1105\", \"sub_11064\"], (96, 96, 96), \"/home/mg873uh/Projects_kb/data/pretrain_preproc/FOMO60k/\", (96, 96, 96), None)"
   ]
  },
  {
   "cell_type": "code",
   "execution_count": 3,
   "id": "36caa544",
   "metadata": {},
   "outputs": [
    {
     "data": {
      "text/plain": [
       "{'sub_11064/ses_1': {<ModalityIndex.DWI: 4>: '/home/mg873uh/Projects_kb/data/pretrain_preproc/FOMO60k/sub_11064_ses_1_dwi_2.npy',\n",
       "  <ModalityIndex.T1: 0>: '/home/mg873uh/Projects_kb/data/pretrain_preproc/FOMO60k/sub_11064_ses_1_t1.npy',\n",
       "  <ModalityIndex.FLAIR: 2>: '/home/mg873uh/Projects_kb/data/pretrain_preproc/FOMO60k/sub_11064_ses_1_flair.npy'},\n",
       " 'sub_1105/ses_1': {<ModalityIndex.DWI: 4>: '/home/mg873uh/Projects_kb/data/pretrain_preproc/FOMO60k/sub_1105_ses_1_dwi.npy',\n",
       "  <ModalityIndex.T2: 1>: '/home/mg873uh/Projects_kb/data/pretrain_preproc/FOMO60k/sub_1105_ses_1_t2.npy',\n",
       "  <ModalityIndex.T1: 0>: '/home/mg873uh/Projects_kb/data/pretrain_preproc/FOMO60k/sub_1105_ses_1_t1.npy'},\n",
       " 'sub_1105/ses_2': {<ModalityIndex.T1: 0>: '/home/mg873uh/Projects_kb/data/pretrain_preproc/FOMO60k/sub_1105_ses_2_t1.npy',\n",
       "  <ModalityIndex.T2: 1>: '/home/mg873uh/Projects_kb/data/pretrain_preproc/FOMO60k/sub_1105_ses_2_t2.npy',\n",
       "  <ModalityIndex.DWI: 4>: '/home/mg873uh/Projects_kb/data/pretrain_preproc/FOMO60k/sub_1105_ses_2_dwi.npy'}}"
      ]
     },
     "execution_count": 3,
     "metadata": {},
     "output_type": "execute_result"
    }
   ],
   "source": [
    "dataset.all_files"
   ]
  },
  {
   "cell_type": "code",
   "execution_count": null,
   "id": "a22218b7",
   "metadata": {},
   "outputs": [],
   "source": []
  }
 ],
 "metadata": {
  "kernelspec": {
   "display_name": ".venv_fomo",
   "language": "python",
   "name": "python3"
  },
  "language_info": {
   "codemirror_mode": {
    "name": "ipython",
    "version": 3
   },
   "file_extension": ".py",
   "mimetype": "text/x-python",
   "name": "python",
   "nbconvert_exporter": "python",
   "pygments_lexer": "ipython3",
   "version": "3.12.3"
  }
 },
 "nbformat": 4,
 "nbformat_minor": 5
}
